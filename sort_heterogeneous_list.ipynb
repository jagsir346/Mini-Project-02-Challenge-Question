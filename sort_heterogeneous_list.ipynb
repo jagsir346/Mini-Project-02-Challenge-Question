{
  "cells": [
    {
      "cell_type": "markdown",
      "metadata": {
        "id": "view-in-github",
        "colab_type": "text"
      },
      "source": [
        "<a href=\"https://colab.research.google.com/github/jagsir346/Mini-Project-02-Challenge-Question/blob/main/sort_heterogeneous_list.ipynb\" target=\"_parent\"><img src=\"https://colab.research.google.com/assets/colab-badge.svg\" alt=\"Open In Colab\"/></a>"
      ]
    },
    {
      "cell_type": "markdown",
      "id": "69bc6dbe",
      "metadata": {
        "id": "69bc6dbe"
      },
      "source": [
        "##Q. Write a Python program to sort a list that contains heterogeneous data types (e.g., both integers and strings).\n",
        "The following example code raises an error. Identify the issue and correct it.\n",
        "# Example list\n",
        "L = [\"Ram\", 1, \"Shyam\", 2, \"Aman\", 3]"
      ]
    },
    {
      "cell_type": "code",
      "execution_count": 1,
      "id": "16b46f11",
      "metadata": {
        "colab": {
          "base_uri": "https://localhost:8080/",
          "height": 201
        },
        "id": "16b46f11",
        "outputId": "3a3abcb7-ec3f-412b-ab98-ea7368d74554"
      },
      "outputs": [
        {
          "output_type": "error",
          "ename": "TypeError",
          "evalue": "'<' not supported between instances of 'int' and 'str'",
          "traceback": [
            "\u001b[0;31m---------------------------------------------------------------------------\u001b[0m",
            "\u001b[0;31mTypeError\u001b[0m                                 Traceback (most recent call last)",
            "\u001b[0;32m<ipython-input-1-748835173>\u001b[0m in \u001b[0;36m<cell line: 0>\u001b[0;34m()\u001b[0m\n\u001b[1;32m      1\u001b[0m \u001b[0;31m#  This code raises a TypeError\u001b[0m\u001b[0;34m\u001b[0m\u001b[0;34m\u001b[0m\u001b[0m\n\u001b[1;32m      2\u001b[0m \u001b[0mL\u001b[0m \u001b[0;34m=\u001b[0m \u001b[0;34m[\u001b[0m\u001b[0;34m\"Ram\"\u001b[0m\u001b[0;34m,\u001b[0m \u001b[0;36m1\u001b[0m\u001b[0;34m,\u001b[0m \u001b[0;34m\"Shyam\"\u001b[0m\u001b[0;34m,\u001b[0m \u001b[0;36m2\u001b[0m\u001b[0;34m,\u001b[0m \u001b[0;34m\"Aman\"\u001b[0m\u001b[0;34m,\u001b[0m \u001b[0;36m3\u001b[0m\u001b[0;34m]\u001b[0m\u001b[0;34m\u001b[0m\u001b[0;34m\u001b[0m\u001b[0m\n\u001b[0;32m----> 3\u001b[0;31m \u001b[0mL\u001b[0m\u001b[0;34m.\u001b[0m\u001b[0msort\u001b[0m\u001b[0;34m(\u001b[0m\u001b[0;34m)\u001b[0m  \u001b[0;31m# Uncommenting this line will raise an error\u001b[0m\u001b[0;34m\u001b[0m\u001b[0;34m\u001b[0m\u001b[0m\n\u001b[0m\u001b[1;32m      4\u001b[0m \u001b[0mprint\u001b[0m\u001b[0;34m(\u001b[0m\u001b[0;34m\"Original List:\"\u001b[0m\u001b[0;34m,\u001b[0m \u001b[0mL\u001b[0m\u001b[0;34m)\u001b[0m\u001b[0;34m\u001b[0m\u001b[0;34m\u001b[0m\u001b[0m\n",
            "\u001b[0;31mTypeError\u001b[0m: '<' not supported between instances of 'int' and 'str'"
          ]
        }
      ],
      "source": [
        "#  This code raises a TypeError\n",
        "L = [\"Ram\", 1, \"Shyam\", 2, \"Aman\", 3]\n",
        "L.sort()  # Uncommenting this line will raise an error\n",
        "print(\"Original List:\", L)"
      ]
    },
    {
      "cell_type": "markdown",
      "source": [
        "#Solved problem"
      ],
      "metadata": {
        "id": "CBU192nKpdhX"
      },
      "id": "CBU192nKpdhX"
    },
    {
      "cell_type": "code",
      "execution_count": 3,
      "id": "eef00dca",
      "metadata": {
        "colab": {
          "base_uri": "https://localhost:8080/"
        },
        "id": "eef00dca",
        "outputId": "59d2604e-d3e8-4dfe-9c2b-df9106622baf"
      },
      "outputs": [
        {
          "output_type": "stream",
          "name": "stdout",
          "text": [
            "Sorted String List: ['Aman', 'Ram', 'Shyam']\n",
            "Sorted Integer List: [1, 2, 3]\n",
            "Combined Sorted List: [1, 2, 3, 'Aman', 'Ram', 'Shyam']\n"
          ]
        }
      ],
      "source": [
        "L = [\"Ram\", 1, \"Shyam\", 2, \"Aman\", 3]\n",
        "\n",
        "# Sort string elements only\n",
        "sorted_str = sorted([x for x in L if isinstance(x, str)])\n",
        "\n",
        "# Sort integer elements only\n",
        "sorted_int = sorted([x for x in L if isinstance(x, int)])\n",
        "\n",
        "# Combine both sorted lists\n",
        "sorted_L = sorted_int + sorted_str\n",
        "\n",
        "print(\"Sorted String List:\", sorted_str)\n",
        "print(\"Sorted Integer List:\", sorted_int)\n",
        "print(\"Combined Sorted List:\", sorted_L)\n"
      ]
    }
  ],
  "metadata": {
    "colab": {
      "provenance": [],
      "include_colab_link": true
    },
    "language_info": {
      "name": "python"
    },
    "kernelspec": {
      "name": "python3",
      "display_name": "Python 3"
    }
  },
  "nbformat": 4,
  "nbformat_minor": 5
}